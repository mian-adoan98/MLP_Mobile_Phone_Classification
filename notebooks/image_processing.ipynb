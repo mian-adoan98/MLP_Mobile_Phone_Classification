{
 "cells": [
  {
   "cell_type": "markdown",
   "metadata": {},
   "source": [
    "# Image Processing: Mobile Phones"
   ]
  },
  {
   "cell_type": "code",
   "execution_count": 48,
   "metadata": {},
   "outputs": [],
   "source": [
    "# import libraries for data processing\n",
    "import numpy as np\n",
    "import pandas as pd\n",
    "import tensorflow as tf"
   ]
  },
  {
   "cell_type": "markdown",
   "metadata": {},
   "source": [
    "### ML Approach: Image Processing"
   ]
  },
  {
   "cell_type": "markdown",
   "metadata": {},
   "source": [
    "+ Image Extraction\n",
    "+ Image Preprocessing\n",
    "+ Image Conversion in 3D arrays\n",
    "+ Imagery Analysis"
   ]
  },
  {
   "cell_type": "code",
   "execution_count": 49,
   "metadata": {},
   "outputs": [
    {
     "data": {
      "text/html": [
       "<div>\n",
       "<style scoped>\n",
       "    .dataframe tbody tr th:only-of-type {\n",
       "        vertical-align: middle;\n",
       "    }\n",
       "\n",
       "    .dataframe tbody tr th {\n",
       "        vertical-align: top;\n",
       "    }\n",
       "\n",
       "    .dataframe thead th {\n",
       "        text-align: right;\n",
       "    }\n",
       "</style>\n",
       "<table border=\"1\" class=\"dataframe\">\n",
       "  <thead>\n",
       "    <tr style=\"text-align: right;\">\n",
       "      <th></th>\n",
       "      <th>Image_URL</th>\n",
       "    </tr>\n",
       "  </thead>\n",
       "  <tbody>\n",
       "    <tr>\n",
       "      <th>0</th>\n",
       "      <td>https://www.facebook.com/tr?id=218520420041521...</td>\n",
       "    </tr>\n",
       "    <tr>\n",
       "      <th>1</th>\n",
       "      <td>https://www.orange.lu/static/version1726647444...</td>\n",
       "    </tr>\n",
       "    <tr>\n",
       "      <th>2</th>\n",
       "      <td>https://www.orange.lu/media/catalog/product/i/...</td>\n",
       "    </tr>\n",
       "    <tr>\n",
       "      <th>3</th>\n",
       "      <td>https://www.orange.lu/media/cache/catalog/prod...</td>\n",
       "    </tr>\n",
       "    <tr>\n",
       "      <th>4</th>\n",
       "      <td>https://www.orange.lu/media/catalog/product/i/...</td>\n",
       "    </tr>\n",
       "  </tbody>\n",
       "</table>\n",
       "</div>"
      ],
      "text/plain": [
       "                                           Image_URL\n",
       "0  https://www.facebook.com/tr?id=218520420041521...\n",
       "1  https://www.orange.lu/static/version1726647444...\n",
       "2  https://www.orange.lu/media/catalog/product/i/...\n",
       "3  https://www.orange.lu/media/cache/catalog/prod...\n",
       "4  https://www.orange.lu/media/catalog/product/i/..."
      ]
     },
     "execution_count": 49,
     "metadata": {},
     "output_type": "execute_result"
    }
   ],
   "source": [
    "# load images \n",
    "images = pd.read_csv(\"image_data.csv\", index_col=0)\n",
    "images.head()"
   ]
  },
  {
   "cell_type": "code",
   "execution_count": 50,
   "metadata": {},
   "outputs": [
    {
     "name": "stdout",
     "output_type": "stream",
     "text": [
      "0 - https://www.facebook.com/tr?id=218520420041521&ev=PageView&noscript=1\n",
      "1 - https://www.orange.lu/static/version1726647444/frontend/Olu/default/default/images/logo-orange.svg\n",
      "2 - https://www.orange.lu/media/catalog/product/i/p/iphone_16_pro_black_titanium_back.png?quality=80&bg-color=255,255,255&fit=bounds&height=400&width=200&canvas=200:400&format=jpeg\n",
      "3 - https://www.orange.lu/media/cache/catalog/product/s/t/45x45/sticker_etoile_noir_4_8.png\n",
      "4 - https://www.orange.lu/media/catalog/product/i/p/iphone_16_pro_max_black_titanium_back.png?quality=80&bg-color=255,255,255&fit=bounds&height=400&width=200&canvas=200:400&format=jpeg\n",
      "5 - https://www.orange.lu/media/cache/catalog/product/s/t/45x45/sticker_etoile_noir_4_7.png\n",
      "6 - https://www.orange.lu/media/catalog/product/i/p/iphone_16_black.png?quality=80&bg-color=255,255,255&fit=bounds&height=400&width=200&canvas=200:400&format=jpeg\n",
      "7 - https://www.orange.lu/media/cache/catalog/product/s/t/45x45/sticker_etoile_noir_4_5.png\n",
      "8 - https://www.orange.lu/media/catalog/product/i/p/iphone_16_plus_black.png?quality=80&bg-color=255,255,255&fit=bounds&height=400&width=200&canvas=200:400&format=jpeg\n",
      "9 - https://www.orange.lu/media/cache/catalog/product/s/t/45x45/sticker_etoile_noir_4_6.png\n",
      "10 - https://www.orange.lu/media/catalog/product/s/a/samsung_galaxy_z_fold6_silver_openfront_en.png?quality=80&bg-color=255,255,255&fit=bounds&height=400&width=200&canvas=200:400&format=jpeg\n",
      "11 - https://www.orange.lu/media/cache/catalog/product/g/i/45x45/gift_7.png\n",
      "12 - https://www.orange.lu/media/catalog/product/s/a/samsung_galaxy_z_flip6_silver_tabletopen_en_1.png?quality=80&bg-color=255,255,255&fit=bounds&height=400&width=200&canvas=200:400&format=jpeg\n",
      "13 - https://www.orange.lu/media/cache/catalog/product/g/i/45x45/gift_6.png\n",
      "14 - https://www.orange.lu/media/catalog/product/i/p/iphone_15_pro_black_front_1000x2000_1.png?quality=80&bg-color=255,255,255&fit=bounds&height=400&width=200&canvas=200:400&format=jpeg\n",
      "15 - https://www.orange.lu/media/catalog/product/i/p/iphone_15_pro_black_front_1000x2000.png?quality=80&bg-color=255,255,255&fit=bounds&height=400&width=200&canvas=200:400&format=jpeg\n",
      "16 - https://www.orange.lu/media/catalog/product/i/p/iphone_15_black_front_1000x2000__6.jpg?quality=80&bg-color=255,255,255&fit=bounds&height=400&width=200&canvas=200:400\n",
      "17 - https://www.orange.lu/media/catalog/product/i/p/iphone_15_black_front_1000x2000_.png?quality=80&bg-color=255,255,255&fit=bounds&height=400&width=200&canvas=200:400&format=jpeg\n",
      "18 - https://www.orange.lu/media/catalog/product/s/a/samsung-galaxy-s24_-ia-onyx-black_1.png?quality=80&bg-color=255,255,255&fit=bounds&height=400&width=200&canvas=200:400&format=jpeg\n",
      "19 - https://www.orange.lu/media/cache/catalog/product/s/t/45x45/sticker_etoile_noir.png\n",
      "20 - https://www.orange.lu/media/catalog/product/s/a/samsung-galaxy-s24_-ia-onyx-black_2.png?quality=80&bg-color=255,255,255&fit=bounds&height=400&width=200&canvas=200:400&format=jpeg\n",
      "21 - https://www.orange.lu/media/cache/catalog/product/s/t/45x45/sticker_etoile_noir_1.png\n",
      "22 - https://www.orange.lu/media/catalog/product/s/a/samsung-galaxy-s24-ultra-ia-onyx-black_1_3.png?quality=80&bg-color=255,255,255&fit=bounds&height=400&width=200&canvas=200:400&format=jpeg\n",
      "23 - https://www.orange.lu/media/cache/catalog/product/s/t/45x45/sticker_etoile_noir_2.png\n",
      "24 - https://www.orange.lu/media/catalog/product/p/i/pixel_8_black_face_1000x2000_1.png?quality=80&bg-color=255,255,255&fit=bounds&height=400&width=200&canvas=200:400&format=jpeg\n",
      "25 - https://www.orange.lu/media/catalog/product/p/i/pixel_8_pro_black_face_1000x2000.png?quality=80&bg-color=255,255,255&fit=bounds&height=400&width=200&canvas=200:400&format=jpeg\n",
      "26 - https://www.orange.lu/media/catalog/product/i/p/iphone13_re_1000x200_1.png?quality=80&bg-color=255,255,255&fit=bounds&height=400&width=200&canvas=200:400&format=jpeg\n",
      "27 - https://www.orange.lu/media/catalog/product/i/p/iphone_12_noir_re_en_1.png?quality=80&bg-color=255,255,255&fit=bounds&height=400&width=200&canvas=200:400&format=jpeg\n",
      "28 - https://www.orange.lu/media/catalog/product/a/p/apple_iphone_11_back_face_refurbished_en.png?quality=80&bg-color=255,255,255&fit=bounds&height=400&width=200&canvas=200:400&format=jpeg\n",
      "29 - https://www.orange.lu/media/catalog/product/s/a/samsung_galaxy_a35_navy_front_1.png?quality=80&bg-color=255,255,255&fit=bounds&height=400&width=200&canvas=200:400&format=jpeg\n",
      "30 - https://www.orange.lu/media/catalog/product/s/a/samsung_galaxy_a55_navy_front_1.png?quality=80&bg-color=255,255,255&fit=bounds&height=400&width=200&canvas=200:400&format=jpeg\n",
      "31 - https://www.orange.lu/media/catalog/product/g/a/galaxy_a15_blue_front_1.png?quality=80&bg-color=255,255,255&fit=bounds&height=400&width=200&canvas=200:400&format=jpeg\n",
      "32 - https://www.orange.lu/media/catalog/product/s/a/samsung_galaxy_xcover_7_ee_face.png?quality=80&bg-color=255,255,255&fit=bounds&height=400&width=200&canvas=200:400&format=jpeg\n",
      "33 - https://www.orange.lu/media/catalog/product/s/a/samsung-galaxy-z-fold5-ia-graphite_1.png?quality=80&bg-color=255,255,255&fit=bounds&height=400&width=200&canvas=200:400&format=jpeg\n",
      "34 - https://www.orange.lu/media/catalog/product/a/p/apple_iphone_14_bleu_face.png?quality=80&bg-color=255,255,255&fit=bounds&height=400&width=200&canvas=200:400&format=jpeg\n",
      "35 - https://www.orange.lu/media/catalog/product/s/a/samsung-galaxy-s23-ia-phantomblack.png?quality=80&bg-color=255,255,255&fit=bounds&height=400&width=200&canvas=200:400&format=jpeg\n",
      "36 - https://www.orange.lu/media/cache/catalog/product/g/i/45x45/gift_2.png\n",
      "37 - https://www.orange.lu/media/catalog/product/s/a/samsung-galaxy-s23_-ia-phantomblack_1.png?quality=80&bg-color=255,255,255&fit=bounds&height=400&width=200&canvas=200:400&format=jpeg\n",
      "38 - https://www.orange.lu/media/cache/catalog/product/g/i/45x45/gift_3.png\n",
      "39 - https://www.orange.lu/media/catalog/product/f/a/fairphone_5_transparent_front_1.png?quality=80&bg-color=255,255,255&fit=bounds&height=400&width=200&canvas=200:400&format=jpeg\n",
      "40 - https://www.orange.lu/media/catalog/product/i/p/iphone_se_noir_re_en_1.png?quality=80&bg-color=255,255,255&fit=bounds&height=400&width=200&canvas=200:400&format=jpeg\n",
      "41 - https://www.orange.lu/media/catalog/product/s/m/sm-a546_galaxy_a54_5g_awesome_graphite_front2.png?quality=80&bg-color=255,255,255&fit=bounds&height=400&width=200&canvas=200:400&format=jpeg\n",
      "42 - https://www.orange.lu/media/catalog/product/a/p/apple_iphone_13_rose_face.jpg?quality=80&bg-color=255,255,255&fit=bounds&height=400&width=200&canvas=200:400\n",
      "43 - https://www.orange.lu/media/catalog/product/a/p/apple-iphone-se-5g-noir-face_4_1.png?quality=80&bg-color=255,255,255&fit=bounds&height=400&width=200&canvas=200:400&format=jpeg\n",
      "44 - https://www.orange.lu/media/catalog/product/x/i/xiaomi_12_gris_face_1.png?quality=80&bg-color=255,255,255&fit=bounds&height=400&width=200&canvas=200:400&format=jpeg\n",
      "45 - https://www.orange.lu/media/catalog/product/x/i/xiaomi_redmi_note_12_plus_black_front_1000x2000.png?quality=80&bg-color=255,255,255&fit=bounds&height=400&width=200&canvas=200:400&format=jpeg\n",
      "46 - https://www.orange.lu/media/catalog/product/s/a/samsung_galaxy_s22_noir_face.png?quality=80&bg-color=255,255,255&fit=bounds&height=400&width=200&canvas=200:400&format=jpeg\n",
      "47 - https://www.orange.lu/media/catalog/bottom_link/default/Livechat_2.svg\n",
      "48 - https://www.orange.lu/media/catalog/bottom_link/default/Store_locator_19371.svg\n",
      "49 - https://www.orange.lu/media/catalog/bottom_link/default/Top_up_Mobile.svg\n",
      "50 - https://www.orange.lu/media/catalog/bottom_link/default/Collective_class_training.svg\n",
      "51 - https://www.orange.lu/media/catalog/bottom_link/default/Business-advisor.svg\n"
     ]
    }
   ],
   "source": [
    "# display the images line by line\n",
    "for idx,img_idx in enumerate(list(range(images.shape[0]))):\n",
    "  print(f\"{idx} - {images[\"Image_URL\"].iloc[idx]}\")"
   ]
  },
  {
   "cell_type": "markdown",
   "metadata": {},
   "source": [
    "## Image Extraction"
   ]
  },
  {
   "cell_type": "code",
   "execution_count": 51,
   "metadata": {},
   "outputs": [],
   "source": [
    "phone_labels = [\"samsung\", \"iphone\"]\n",
    "mobile_images = []\n",
    "rest_images = []\n",
    "\n",
    "for img_idx, url in enumerate(images[\"Image_URL\"]): \n",
    "  if phone_labels[0] in images[\"Image_URL\"].iloc[img_idx]: \n",
    "    image_url = url \n",
    "    mobile_images.append(image_url)\n",
    "  elif phone_labels[1] in images[\"Image_URL\"].iloc[img_idx]:\n",
    "    image_url = url \n",
    "    mobile_images.append(image_url)\n",
    "  else:\n",
    "    rest_url = url\n",
    "    rest_images.append(rest_url)"
   ]
  },
  {
   "cell_type": "code",
   "execution_count": 52,
   "metadata": {},
   "outputs": [
    {
     "name": "stdout",
     "output_type": "stream",
     "text": [
      "Number of Mobile Images: 27\n",
      "Number of Rested Images: 25\n"
     ]
    }
   ],
   "source": [
    "# return number of images\n",
    "def return_num_imgs(img_list, img_coll_name): \n",
    "  img_list_size = len(img_list)\n",
    "  print(f\"Number of {img_coll_name}: {img_list_size}\")\n",
    "  return img_list_size\n",
    "\n",
    "# number of mobile images and rested images\n",
    "mobile_img_size = return_num_imgs(mobile_images, \"Mobile Images\")\n",
    "rest_img_size = return_num_imgs(rest_images, \"Rested Images\")"
   ]
  },
  {
   "cell_type": "code",
   "execution_count": 53,
   "metadata": {},
   "outputs": [
    {
     "data": {
      "text/plain": [
       "['https://www.facebook.com/tr?id=218520420041521&ev=PageView&noscript=1',\n",
       " 'https://www.orange.lu/static/version1726647444/frontend/Olu/default/default/images/logo-orange.svg',\n",
       " 'https://www.orange.lu/media/cache/catalog/product/s/t/45x45/sticker_etoile_noir_4_8.png',\n",
       " 'https://www.orange.lu/media/cache/catalog/product/s/t/45x45/sticker_etoile_noir_4_7.png',\n",
       " 'https://www.orange.lu/media/cache/catalog/product/s/t/45x45/sticker_etoile_noir_4_5.png',\n",
       " 'https://www.orange.lu/media/cache/catalog/product/s/t/45x45/sticker_etoile_noir_4_6.png',\n",
       " 'https://www.orange.lu/media/cache/catalog/product/g/i/45x45/gift_7.png',\n",
       " 'https://www.orange.lu/media/cache/catalog/product/g/i/45x45/gift_6.png',\n",
       " 'https://www.orange.lu/media/cache/catalog/product/s/t/45x45/sticker_etoile_noir.png',\n",
       " 'https://www.orange.lu/media/cache/catalog/product/s/t/45x45/sticker_etoile_noir_1.png',\n",
       " 'https://www.orange.lu/media/cache/catalog/product/s/t/45x45/sticker_etoile_noir_2.png',\n",
       " 'https://www.orange.lu/media/catalog/product/p/i/pixel_8_black_face_1000x2000_1.png?quality=80&bg-color=255,255,255&fit=bounds&height=400&width=200&canvas=200:400&format=jpeg',\n",
       " 'https://www.orange.lu/media/catalog/product/p/i/pixel_8_pro_black_face_1000x2000.png?quality=80&bg-color=255,255,255&fit=bounds&height=400&width=200&canvas=200:400&format=jpeg',\n",
       " 'https://www.orange.lu/media/catalog/product/g/a/galaxy_a15_blue_front_1.png?quality=80&bg-color=255,255,255&fit=bounds&height=400&width=200&canvas=200:400&format=jpeg',\n",
       " 'https://www.orange.lu/media/cache/catalog/product/g/i/45x45/gift_2.png',\n",
       " 'https://www.orange.lu/media/cache/catalog/product/g/i/45x45/gift_3.png',\n",
       " 'https://www.orange.lu/media/catalog/product/f/a/fairphone_5_transparent_front_1.png?quality=80&bg-color=255,255,255&fit=bounds&height=400&width=200&canvas=200:400&format=jpeg',\n",
       " 'https://www.orange.lu/media/catalog/product/s/m/sm-a546_galaxy_a54_5g_awesome_graphite_front2.png?quality=80&bg-color=255,255,255&fit=bounds&height=400&width=200&canvas=200:400&format=jpeg',\n",
       " 'https://www.orange.lu/media/catalog/product/x/i/xiaomi_12_gris_face_1.png?quality=80&bg-color=255,255,255&fit=bounds&height=400&width=200&canvas=200:400&format=jpeg',\n",
       " 'https://www.orange.lu/media/catalog/product/x/i/xiaomi_redmi_note_12_plus_black_front_1000x2000.png?quality=80&bg-color=255,255,255&fit=bounds&height=400&width=200&canvas=200:400&format=jpeg',\n",
       " 'https://www.orange.lu/media/catalog/bottom_link/default/Livechat_2.svg',\n",
       " 'https://www.orange.lu/media/catalog/bottom_link/default/Store_locator_19371.svg',\n",
       " 'https://www.orange.lu/media/catalog/bottom_link/default/Top_up_Mobile.svg',\n",
       " 'https://www.orange.lu/media/catalog/bottom_link/default/Collective_class_training.svg',\n",
       " 'https://www.orange.lu/media/catalog/bottom_link/default/Business-advisor.svg']"
      ]
     },
     "execution_count": 53,
     "metadata": {},
     "output_type": "execute_result"
    }
   ],
   "source": [
    "# analyze rested images\n",
    "rest_images"
   ]
  },
  {
   "cell_type": "code",
   "execution_count": 54,
   "metadata": {},
   "outputs": [],
   "source": [
    "# retrieve neccesary image links + add into mobile images\n",
    "phone_labels2 = [\"xiaomi\", \"fairphone\", \"pixel_8\", \"galaxy\"]\n",
    "\n",
    "for idx, img_url in enumerate(rest_images):\n",
    "  if phone_labels2[0] in img_url: \n",
    "    new_img = img_url\n",
    "    mobile_images.append(new_img)\n",
    "  elif phone_labels2[1] in img_url:\n",
    "    new_img = img_url\n",
    "    mobile_images.append(new_img)\n",
    "  elif phone_labels2[2] in img_url:\n",
    "    new_img = img_url\n",
    "    mobile_images.append(new_img)\n",
    "  elif phone_labels2[2] in img_url:\n",
    "    new_img = img_url\n",
    "    mobile_images.append(new_img)"
   ]
  },
  {
   "cell_type": "code",
   "execution_count": 55,
   "metadata": {},
   "outputs": [
    {
     "name": "stdout",
     "output_type": "stream",
     "text": [
      "Number of Mobile Images: 32\n",
      "Number of Rested Images: 25\n"
     ]
    }
   ],
   "source": [
    "# number of mobile images and rested images\n",
    "mobile_img_size = return_num_imgs(mobile_images, \"Mobile Images\")\n",
    "rest_img_size = return_num_imgs(rest_images, \"Rested Images\")"
   ]
  },
  {
   "cell_type": "markdown",
   "metadata": {},
   "source": [
    "## Image Preprocessing"
   ]
  },
  {
   "cell_type": "code",
   "execution_count": 56,
   "metadata": {},
   "outputs": [
    {
     "data": {
      "text/plain": [
       "['https://www.orange.lu/media/catalog/product/i/p/iphone_16_pro_black_titanium_back.png?quality=80&bg-color=255,255,255&fit=bounds&height=400&width=200&canvas=200:400&format=jpeg',\n",
       " 'https://www.orange.lu/media/catalog/product/i/p/iphone_16_pro_max_black_titanium_back.png?quality=80&bg-color=255,255,255&fit=bounds&height=400&width=200&canvas=200:400&format=jpeg',\n",
       " 'https://www.orange.lu/media/catalog/product/i/p/iphone_16_black.png?quality=80&bg-color=255,255,255&fit=bounds&height=400&width=200&canvas=200:400&format=jpeg']"
      ]
     },
     "execution_count": 56,
     "metadata": {},
     "output_type": "execute_result"
    }
   ],
   "source": [
    "mobile_images[:3]"
   ]
  },
  {
   "cell_type": "code",
   "execution_count": 57,
   "metadata": {},
   "outputs": [
    {
     "data": {
      "text/plain": [
       "['samsung', 'iphone', 'xiaomi', 'fairphone', 'pixel_8', 'galaxy']"
      ]
     },
     "execution_count": 57,
     "metadata": {},
     "output_type": "execute_result"
    }
   ],
   "source": [
    "mp_labels = phone_labels + phone_labels2\n",
    "mp_labels"
   ]
  },
  {
   "cell_type": "code",
   "execution_count": 58,
   "metadata": {},
   "outputs": [],
   "source": [
    "# define function that maps url to image type\n",
    "def image_type(url):\n",
    "  if mp_labels[0] in url:\n",
    "    return \"Samsung\"\n",
    "  elif mp_labels[1] in url:\n",
    "    return \"Iphone\"\n",
    "  elif mp_labels[2] in url:\n",
    "    return \"Xiaomi\"\n",
    "  elif mp_labels[3] in url:\n",
    "    return \"Fairphone\"\n",
    "  elif mp_labels[4] in url:\n",
    "    return \"Pixe 8\"\n",
    "  elif mp_labels[5] in url:\n",
    "    return \"Galaxy\""
   ]
  },
  {
   "cell_type": "code",
   "execution_count": 59,
   "metadata": {},
   "outputs": [
    {
     "data": {
      "text/html": [
       "<div>\n",
       "<style scoped>\n",
       "    .dataframe tbody tr th:only-of-type {\n",
       "        vertical-align: middle;\n",
       "    }\n",
       "\n",
       "    .dataframe tbody tr th {\n",
       "        vertical-align: top;\n",
       "    }\n",
       "\n",
       "    .dataframe thead th {\n",
       "        text-align: right;\n",
       "    }\n",
       "</style>\n",
       "<table border=\"1\" class=\"dataframe\">\n",
       "  <thead>\n",
       "    <tr style=\"text-align: right;\">\n",
       "      <th></th>\n",
       "      <th>Image_URL</th>\n",
       "      <th>ImageType</th>\n",
       "    </tr>\n",
       "  </thead>\n",
       "  <tbody>\n",
       "    <tr>\n",
       "      <th>0</th>\n",
       "      <td>https://www.facebook.com/tr?id=218520420041521...</td>\n",
       "      <td>Rested</td>\n",
       "    </tr>\n",
       "    <tr>\n",
       "      <th>1</th>\n",
       "      <td>https://www.orange.lu/static/version1726647444...</td>\n",
       "      <td>Rested</td>\n",
       "    </tr>\n",
       "    <tr>\n",
       "      <th>2</th>\n",
       "      <td>https://www.orange.lu/media/catalog/product/i/...</td>\n",
       "      <td>Iphone</td>\n",
       "    </tr>\n",
       "    <tr>\n",
       "      <th>3</th>\n",
       "      <td>https://www.orange.lu/media/cache/catalog/prod...</td>\n",
       "      <td>Rested</td>\n",
       "    </tr>\n",
       "    <tr>\n",
       "      <th>4</th>\n",
       "      <td>https://www.orange.lu/media/catalog/product/i/...</td>\n",
       "      <td>Iphone</td>\n",
       "    </tr>\n",
       "  </tbody>\n",
       "</table>\n",
       "</div>"
      ],
      "text/plain": [
       "                                           Image_URL ImageType\n",
       "0  https://www.facebook.com/tr?id=218520420041521...    Rested\n",
       "1  https://www.orange.lu/static/version1726647444...    Rested\n",
       "2  https://www.orange.lu/media/catalog/product/i/...    Iphone\n",
       "3  https://www.orange.lu/media/cache/catalog/prod...    Rested\n",
       "4  https://www.orange.lu/media/catalog/product/i/...    Iphone"
      ]
     },
     "execution_count": 59,
     "metadata": {},
     "output_type": "execute_result"
    }
   ],
   "source": [
    "# create feature ImageType to classify the images based on mobile brand\n",
    "# remove null values\n",
    "images[\"ImageType\"] = images[\"Image_URL\"].apply(image_type)\n",
    "images[\"ImageType\"] = images[\"ImageType\"].fillna(\"Rested\")\n",
    "images.head()"
   ]
  },
  {
   "cell_type": "code",
   "execution_count": 60,
   "metadata": {},
   "outputs": [
    {
     "data": {
      "text/plain": [
       "ImageType\n",
       "Rested       18\n",
       "Iphone       15\n",
       "Samsung      12\n",
       "Pixe 8        2\n",
       "Galaxy        2\n",
       "Xiaomi        2\n",
       "Fairphone     1\n",
       "Name: count, dtype: int64"
      ]
     },
     "execution_count": 60,
     "metadata": {},
     "output_type": "execute_result"
    }
   ],
   "source": [
    "# identify the frequency for each image types\n",
    "images[\"ImageType\"].value_counts()"
   ]
  },
  {
   "cell_type": "code",
   "execution_count": 61,
   "metadata": {},
   "outputs": [
    {
     "data": {
      "text/html": [
       "<div>\n",
       "<style scoped>\n",
       "    .dataframe tbody tr th:only-of-type {\n",
       "        vertical-align: middle;\n",
       "    }\n",
       "\n",
       "    .dataframe tbody tr th {\n",
       "        vertical-align: top;\n",
       "    }\n",
       "\n",
       "    .dataframe thead th {\n",
       "        text-align: right;\n",
       "    }\n",
       "</style>\n",
       "<table border=\"1\" class=\"dataframe\">\n",
       "  <thead>\n",
       "    <tr style=\"text-align: right;\">\n",
       "      <th></th>\n",
       "      <th>Image_URL</th>\n",
       "      <th>ImageType</th>\n",
       "    </tr>\n",
       "  </thead>\n",
       "  <tbody>\n",
       "    <tr>\n",
       "      <th>0</th>\n",
       "      <td>https://www.orange.lu/media/catalog/product/i/...</td>\n",
       "      <td>Iphone</td>\n",
       "    </tr>\n",
       "    <tr>\n",
       "      <th>1</th>\n",
       "      <td>https://www.orange.lu/media/catalog/product/i/...</td>\n",
       "      <td>Iphone</td>\n",
       "    </tr>\n",
       "    <tr>\n",
       "      <th>2</th>\n",
       "      <td>https://www.orange.lu/media/catalog/product/i/...</td>\n",
       "      <td>Iphone</td>\n",
       "    </tr>\n",
       "    <tr>\n",
       "      <th>3</th>\n",
       "      <td>https://www.orange.lu/media/catalog/product/i/...</td>\n",
       "      <td>Iphone</td>\n",
       "    </tr>\n",
       "    <tr>\n",
       "      <th>4</th>\n",
       "      <td>https://www.orange.lu/media/catalog/product/s/...</td>\n",
       "      <td>Samsung</td>\n",
       "    </tr>\n",
       "  </tbody>\n",
       "</table>\n",
       "</div>"
      ],
      "text/plain": [
       "                                           Image_URL ImageType\n",
       "0  https://www.orange.lu/media/catalog/product/i/...    Iphone\n",
       "1  https://www.orange.lu/media/catalog/product/i/...    Iphone\n",
       "2  https://www.orange.lu/media/catalog/product/i/...    Iphone\n",
       "3  https://www.orange.lu/media/catalog/product/i/...    Iphone\n",
       "4  https://www.orange.lu/media/catalog/product/s/...   Samsung"
      ]
     },
     "execution_count": 61,
     "metadata": {},
     "output_type": "execute_result"
    }
   ],
   "source": [
    "# extract mobile images from dataset\n",
    "mobile_images = images[images[\"ImageType\"] != \"Rested\"]\n",
    "mobile_images.index = list(map(str, range(0, mobile_images.shape[0])))\n",
    "mobile_images.head()"
   ]
  },
  {
   "cell_type": "code",
   "execution_count": 62,
   "metadata": {},
   "outputs": [
    {
     "name": "stdout",
     "output_type": "stream",
     "text": [
      "Images: 34\n",
      "Features: 2\n"
     ]
    }
   ],
   "source": [
    "# size of the dataset\n",
    "imgs, features = mobile_images.shape\n",
    "print(f\"Images: {imgs}\")\n",
    "print(f\"Features: {features}\")"
   ]
  },
  {
   "cell_type": "code",
   "execution_count": 63,
   "metadata": {},
   "outputs": [],
   "source": [
    "# save mobile phone images as csv\n",
    "mobile_images.to_csv(\"mobile_phone_images.csv\")"
   ]
  },
  {
   "cell_type": "code",
   "execution_count": null,
   "metadata": {},
   "outputs": [],
   "source": []
  },
  {
   "cell_type": "code",
   "execution_count": null,
   "metadata": {},
   "outputs": [],
   "source": []
  }
 ],
 "metadata": {
  "kernelspec": {
   "display_name": "venv",
   "language": "python",
   "name": "python3"
  },
  "language_info": {
   "codemirror_mode": {
    "name": "ipython",
    "version": 3
   },
   "file_extension": ".py",
   "mimetype": "text/x-python",
   "name": "python",
   "nbconvert_exporter": "python",
   "pygments_lexer": "ipython3",
   "version": "3.12.4"
  }
 },
 "nbformat": 4,
 "nbformat_minor": 2
}
