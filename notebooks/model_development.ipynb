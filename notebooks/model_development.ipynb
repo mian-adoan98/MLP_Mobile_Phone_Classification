{
 "cells": [
  {
   "cell_type": "markdown",
   "metadata": {
    "vscode": {
     "languageId": "plaintext"
    }
   },
   "source": [
    "# Model Development on Mobile Images\n"
   ]
  },
  {
   "cell_type": "code",
   "execution_count": 58,
   "metadata": {},
   "outputs": [],
   "source": [
    "# import libraries for data processing\n",
    "import numpy as np\n",
    "import pandas as pd\n",
    "\n",
    "# import libraries for image processing and system configuration\n",
    "import io\n",
    "import requests\n",
    "import cv2\n",
    "from PIL import Image"
   ]
  },
  {
   "cell_type": "code",
   "execution_count": 59,
   "metadata": {},
   "outputs": [],
   "source": [
    "# import tensorflow\n",
    "import tensorflow as tf"
   ]
  },
  {
   "cell_type": "code",
   "execution_count": 74,
   "metadata": {},
   "outputs": [],
   "source": [
    "# import tensorflow for building neural network\n",
    "from tensorflow import keras\n",
    "from keras import models\n",
    "from keras import layers\n",
    "# from keras.optimizers import "
   ]
  },
  {
   "cell_type": "markdown",
   "metadata": {},
   "source": [
    "### Model Development Approach"
   ]
  },
  {
   "cell_type": "markdown",
   "metadata": {},
   "source": [
    "+ Image Data Preparation\n",
    "+ Model Building\n",
    "+ Model Training\n",
    "+ Model Evaluation"
   ]
  },
  {
   "cell_type": "markdown",
   "metadata": {},
   "source": [
    "## Image Data Preparation"
   ]
  },
  {
   "cell_type": "markdown",
   "metadata": {},
   "source": [
    "**Image Processing 3D Arrays**\n",
    "+ download images and convert into 3D Tensors\n",
    "+ batch multiple images together\n",
    "+ processing images using tensorflow utilities"
   ]
  },
  {
   "cell_type": "code",
   "execution_count": 61,
   "metadata": {},
   "outputs": [
    {
     "data": {
      "text/html": [
       "<div>\n",
       "<style scoped>\n",
       "    .dataframe tbody tr th:only-of-type {\n",
       "        vertical-align: middle;\n",
       "    }\n",
       "\n",
       "    .dataframe tbody tr th {\n",
       "        vertical-align: top;\n",
       "    }\n",
       "\n",
       "    .dataframe thead th {\n",
       "        text-align: right;\n",
       "    }\n",
       "</style>\n",
       "<table border=\"1\" class=\"dataframe\">\n",
       "  <thead>\n",
       "    <tr style=\"text-align: right;\">\n",
       "      <th></th>\n",
       "      <th>Image_URL</th>\n",
       "      <th>ImageType</th>\n",
       "    </tr>\n",
       "  </thead>\n",
       "  <tbody>\n",
       "    <tr>\n",
       "      <th>0</th>\n",
       "      <td>https://www.orange.lu/media/catalog/product/i/...</td>\n",
       "      <td>Iphone</td>\n",
       "    </tr>\n",
       "    <tr>\n",
       "      <th>1</th>\n",
       "      <td>https://www.orange.lu/media/catalog/product/i/...</td>\n",
       "      <td>Iphone</td>\n",
       "    </tr>\n",
       "    <tr>\n",
       "      <th>2</th>\n",
       "      <td>https://www.orange.lu/media/catalog/product/i/...</td>\n",
       "      <td>Iphone</td>\n",
       "    </tr>\n",
       "  </tbody>\n",
       "</table>\n",
       "</div>"
      ],
      "text/plain": [
       "                                           Image_URL ImageType\n",
       "0  https://www.orange.lu/media/catalog/product/i/...    Iphone\n",
       "1  https://www.orange.lu/media/catalog/product/i/...    Iphone\n",
       "2  https://www.orange.lu/media/catalog/product/i/...    Iphone"
      ]
     },
     "execution_count": 61,
     "metadata": {},
     "output_type": "execute_result"
    }
   ],
   "source": [
    "# load image data\n",
    "images_df = pd.read_csv(\"mobile_phone_images.csv\", index_col=0)\n",
    "images_df.head(3)"
   ]
  },
  {
   "cell_type": "code",
   "execution_count": 62,
   "metadata": {},
   "outputs": [],
   "source": [
    "# download images and convert into numpy arrays\n",
    "\n",
    "def convert_images_to_arrays(img_url, target_size=(32,32)):\n",
    "  response = requests.get(img_url) # download the image\n",
    "\n",
    "   # open + resize the image using the target size\n",
    "  img = Image.open(io.BytesIO(response.content)) # open the image\n",
    "  img = img.resize(target_size)\n",
    "  img = img.convert('RGB')\n",
    "  \n",
    "  # convert into array + normalize the image \n",
    "  img_array = np.array(img) \n",
    "  img_array = img_array.astype('float32')/225.0\n",
    "\n",
    "  return img_array"
   ]
  },
  {
   "cell_type": "markdown",
   "metadata": {},
   "source": [
    "test\n"
   ]
  },
  {
   "cell_type": "code",
   "execution_count": 63,
   "metadata": {},
   "outputs": [],
   "source": [
    "# create instances to store 3d image arrays from img urls\n",
    "array_3d_coll = []\n",
    "img_index_list = images_df.index\n",
    "\n",
    "# iterate the image url + add into a list of all 3D-arrays\n",
    "for i in images_df.index: \n",
    "  img_url = images_df[\"Image_URL\"].iloc[i]\n",
    "  img_array = convert_images_to_arrays(img_url)\n",
    "  array_3d_coll.append(img_array)\n",
    "\n",
    "# create a new feature --> containing all 3d arrays + add into dataframe \n",
    "images_df[\"Image_Array3D\"] = array_3d_coll"
   ]
  },
  {
   "cell_type": "code",
   "execution_count": 64,
   "metadata": {},
   "outputs": [
    {
     "name": "stdout",
     "output_type": "stream",
     "text": [
      "Image Array 3D - Shape: (32, 32, 3)\n"
     ]
    }
   ],
   "source": [
    "# print the shape of the image 3D array\n",
    "img_array3D = images_df[\"Image_Array3D\"].iloc[0]\n",
    "img3D_shape = img_array3D.shape\n",
    "print(f\"Image Array 3D - Shape: {img3D_shape}\")"
   ]
  },
  {
   "cell_type": "code",
   "execution_count": 65,
   "metadata": {},
   "outputs": [
    {
     "data": {
      "text/html": [
       "<div>\n",
       "<style scoped>\n",
       "    .dataframe tbody tr th:only-of-type {\n",
       "        vertical-align: middle;\n",
       "    }\n",
       "\n",
       "    .dataframe tbody tr th {\n",
       "        vertical-align: top;\n",
       "    }\n",
       "\n",
       "    .dataframe thead th {\n",
       "        text-align: right;\n",
       "    }\n",
       "</style>\n",
       "<table border=\"1\" class=\"dataframe\">\n",
       "  <thead>\n",
       "    <tr style=\"text-align: right;\">\n",
       "      <th></th>\n",
       "      <th>Image_URL</th>\n",
       "      <th>ImageType</th>\n",
       "      <th>Image_Array3D</th>\n",
       "    </tr>\n",
       "  </thead>\n",
       "  <tbody>\n",
       "    <tr>\n",
       "      <th>0</th>\n",
       "      <td>https://www.orange.lu/media/catalog/product/i/...</td>\n",
       "      <td>Iphone</td>\n",
       "      <td>[[[1.1333333, 1.1333333, 1.1333333], [1.133333...</td>\n",
       "    </tr>\n",
       "    <tr>\n",
       "      <th>1</th>\n",
       "      <td>https://www.orange.lu/media/catalog/product/i/...</td>\n",
       "      <td>Iphone</td>\n",
       "      <td>[[[1.1333333, 1.1333333, 1.1333333], [1.133333...</td>\n",
       "    </tr>\n",
       "    <tr>\n",
       "      <th>2</th>\n",
       "      <td>https://www.orange.lu/media/catalog/product/i/...</td>\n",
       "      <td>Iphone</td>\n",
       "      <td>[[[1.1333333, 1.1333333, 1.1333333], [1.133333...</td>\n",
       "    </tr>\n",
       "    <tr>\n",
       "      <th>3</th>\n",
       "      <td>https://www.orange.lu/media/catalog/product/i/...</td>\n",
       "      <td>Iphone</td>\n",
       "      <td>[[[1.1333333, 1.1333333, 1.1333333], [1.133333...</td>\n",
       "    </tr>\n",
       "    <tr>\n",
       "      <th>4</th>\n",
       "      <td>https://www.orange.lu/media/catalog/product/s/...</td>\n",
       "      <td>Samsung</td>\n",
       "      <td>[[[1.1333333, 1.1333333, 1.1333333], [1.133333...</td>\n",
       "    </tr>\n",
       "  </tbody>\n",
       "</table>\n",
       "</div>"
      ],
      "text/plain": [
       "                                           Image_URL ImageType  \\\n",
       "0  https://www.orange.lu/media/catalog/product/i/...    Iphone   \n",
       "1  https://www.orange.lu/media/catalog/product/i/...    Iphone   \n",
       "2  https://www.orange.lu/media/catalog/product/i/...    Iphone   \n",
       "3  https://www.orange.lu/media/catalog/product/i/...    Iphone   \n",
       "4  https://www.orange.lu/media/catalog/product/s/...   Samsung   \n",
       "\n",
       "                                       Image_Array3D  \n",
       "0  [[[1.1333333, 1.1333333, 1.1333333], [1.133333...  \n",
       "1  [[[1.1333333, 1.1333333, 1.1333333], [1.133333...  \n",
       "2  [[[1.1333333, 1.1333333, 1.1333333], [1.133333...  \n",
       "3  [[[1.1333333, 1.1333333, 1.1333333], [1.133333...  \n",
       "4  [[[1.1333333, 1.1333333, 1.1333333], [1.133333...  "
      ]
     },
     "execution_count": 65,
     "metadata": {},
     "output_type": "execute_result"
    }
   ],
   "source": [
    "# display dataframe\n",
    "images_df.head()"
   ]
  },
  {
   "cell_type": "markdown",
   "metadata": {},
   "source": [
    "## Model Training"
   ]
  },
  {
   "cell_type": "markdown",
   "metadata": {
    "vscode": {
     "languageId": "plaintext"
    }
   },
   "source": [
    "Procedure for building image classification model to train and develop the model on mobile images using mobile labels:\n",
    "+ prepare training samples and labels for model training\n",
    "+ build a convolutional neural network from TensorFlow\n",
    "+ train the model on mobile images with 10 epochs\n",
    "+ evaluate the images + \n",
    "+ graphically analyse the loss and the accuracy of the training process"
   ]
  },
  {
   "cell_type": "code",
   "execution_count": 66,
   "metadata": {},
   "outputs": [],
   "source": [
    "# extract data from image dataframe\n",
    "img_features = [\"Image_Array3D\", \"ImageType\"]\n",
    "mobile_img_data = images_df[img_features]"
   ]
  },
  {
   "cell_type": "code",
   "execution_count": 67,
   "metadata": {},
   "outputs": [
    {
     "data": {
      "text/plain": [
       "array([[[1.1333333 , 1.1333333 , 1.1333333 ],\n",
       "        [1.0888889 , 1.0888889 , 1.0888889 ],\n",
       "        [0.6666667 , 0.6666667 , 0.6755555 ],\n",
       "        ...,\n",
       "        [0.6577778 , 0.6533333 , 0.6666667 ],\n",
       "        [1.0888889 , 1.0888889 , 1.0888889 ],\n",
       "        [1.1333333 , 1.1333333 , 1.1333333 ]],\n",
       "\n",
       "       [[1.1333333 , 1.1333333 , 1.1333333 ],\n",
       "        [0.69777775, 0.69777775, 0.70666665],\n",
       "        [0.13777778, 0.13777778, 0.16444445],\n",
       "        ...,\n",
       "        [0.13777778, 0.13777778, 0.16888888],\n",
       "        [0.6888889 , 0.6888889 , 0.7022222 ],\n",
       "        [1.1333333 , 1.1333333 , 1.1333333 ]],\n",
       "\n",
       "       [[1.1333333 , 1.1333333 , 1.1333333 ],\n",
       "        [0.5733333 , 0.5733333 , 0.5822222 ],\n",
       "        [0.16444445, 0.16      , 0.19111112],\n",
       "        ...,\n",
       "        [0.16888888, 0.16888888, 0.2       ],\n",
       "        [0.52      , 0.52444446, 0.5377778 ],\n",
       "        [1.1333333 , 1.1333333 , 1.1333333 ]],\n",
       "\n",
       "       ...,\n",
       "\n",
       "       [[1.1333333 , 1.1333333 , 1.1333333 ],\n",
       "        [0.5422222 , 0.5422222 , 0.5511111 ],\n",
       "        [0.31111112, 0.31111112, 0.33333334],\n",
       "        ...,\n",
       "        [0.03555556, 0.03111111, 0.04888889],\n",
       "        [0.50666666, 0.50666666, 0.51111114],\n",
       "        [1.1333333 , 1.1333333 , 1.1333333 ]],\n",
       "\n",
       "       [[1.1333333 , 1.1333333 , 1.1333333 ],\n",
       "        [0.81777775, 0.81777775, 0.82222223],\n",
       "        [0.25777778, 0.25777778, 0.27555555],\n",
       "        ...,\n",
       "        [0.10222222, 0.10222222, 0.11111111],\n",
       "        [0.7911111 , 0.7911111 , 0.7911111 ],\n",
       "        [1.1333333 , 1.1333333 , 1.1333333 ]],\n",
       "\n",
       "       [[1.12      , 1.12      , 1.12      ],\n",
       "        [1.1155555 , 1.1155555 , 1.1155555 ],\n",
       "        [0.8711111 , 0.8711111 , 0.8711111 ],\n",
       "        ...,\n",
       "        [0.8577778 , 0.8577778 , 0.8577778 ],\n",
       "        [1.1111112 , 1.1111112 , 1.1111112 ],\n",
       "        [1.1155555 , 1.1155555 , 1.1155555 ]]], dtype=float32)"
      ]
     },
     "execution_count": 67,
     "metadata": {},
     "output_type": "execute_result"
    }
   ],
   "source": [
    "img = mobile_img_data[\"Image_Array3D\"].loc[13]\n",
    "img"
   ]
  },
  {
   "cell_type": "code",
   "execution_count": 68,
   "metadata": {},
   "outputs": [],
   "source": [
    "# rename \n",
    "mobile_img_data = mobile_img_data.rename(columns={\n",
    "  \"Image_Array3D\": \"Images\", \n",
    "  \"ImageType\": \"Image_Labels\"\n",
    "})"
   ]
  },
  {
   "cell_type": "code",
   "execution_count": 69,
   "metadata": {},
   "outputs": [
    {
     "data": {
      "text/html": [
       "<div>\n",
       "<style scoped>\n",
       "    .dataframe tbody tr th:only-of-type {\n",
       "        vertical-align: middle;\n",
       "    }\n",
       "\n",
       "    .dataframe tbody tr th {\n",
       "        vertical-align: top;\n",
       "    }\n",
       "\n",
       "    .dataframe thead th {\n",
       "        text-align: right;\n",
       "    }\n",
       "</style>\n",
       "<table border=\"1\" class=\"dataframe\">\n",
       "  <thead>\n",
       "    <tr style=\"text-align: right;\">\n",
       "      <th></th>\n",
       "      <th>Images</th>\n",
       "      <th>Image_Labels</th>\n",
       "    </tr>\n",
       "  </thead>\n",
       "  <tbody>\n",
       "    <tr>\n",
       "      <th>0</th>\n",
       "      <td>[[[1.1333333, 1.1333333, 1.1333333], [1.133333...</td>\n",
       "      <td>Iphone</td>\n",
       "    </tr>\n",
       "    <tr>\n",
       "      <th>1</th>\n",
       "      <td>[[[1.1333333, 1.1333333, 1.1333333], [1.133333...</td>\n",
       "      <td>Iphone</td>\n",
       "    </tr>\n",
       "  </tbody>\n",
       "</table>\n",
       "</div>"
      ],
      "text/plain": [
       "                                              Images Image_Labels\n",
       "0  [[[1.1333333, 1.1333333, 1.1333333], [1.133333...       Iphone\n",
       "1  [[[1.1333333, 1.1333333, 1.1333333], [1.133333...       Iphone"
      ]
     },
     "execution_count": 69,
     "metadata": {},
     "output_type": "execute_result"
    }
   ],
   "source": [
    "mobile_img_data.head(2)"
   ]
  },
  {
   "cell_type": "code",
   "execution_count": 88,
   "metadata": {},
   "outputs": [],
   "source": [
    "# prepare the image labels and samples\n",
    "train_mobile_images = mobile_img_data[\"Images\"].sample(frac=0.8)\n",
    "train_labels = mobile_img_data[\"Image_Labels\"].sample(frac=0.8)\n",
    "\n",
    "test_mobile_images = mobile_img_data[\"\"]"
   ]
  },
  {
   "cell_type": "code",
   "execution_count": 89,
   "metadata": {},
   "outputs": [
    {
     "name": "stdout",
     "output_type": "stream",
     "text": [
      "Number of mobile brand labels: 5\n"
     ]
    }
   ],
   "source": [
    "# show numbers of labels\n",
    "labels = train_labels.unique()\n",
    "mobile_labels = len(labels)\n",
    "print(f\"Number of mobile brand labels: {mobile_labels}\")"
   ]
  },
  {
   "cell_type": "code",
   "execution_count": 86,
   "metadata": {},
   "outputs": [],
   "source": [
    "# build convolutional neural network model \n",
    "def convolutional_neural_network(num_labels): \n",
    "  # define a cnn model\n",
    "  model = models.Sequential()\n",
    "\n",
    "  # add convolutional layer, followed by a max-pooling layers\n",
    "  model.add(layers.Conv2D(64, (3,3), activation='relu', input_shape=(32,32,3)))\n",
    "  model.add(layers.MaxPooling2D((2,2)))\n",
    "  model.add(layers.Conv2D(64, (3,3), activation=\"relu\"))\n",
    "  model.add(layers.MaxPooling2D((2,2)))\n",
    "  model.add(layers.Conv2D(64, (3,3), activation=\"relu\"))\n",
    "  \n",
    "  # flatten 3D features into 1D to connect dense layers\n",
    "  model.add(layers.Flatten())\n",
    "\n",
    "  # add dense layers\n",
    "  model.add(layers.Dense(64, activation=\"relu\"))\n",
    "  model.add(layers.Dense(num_labels))\n",
    "\n",
    "  # compile the model \n",
    "  model.compile(optimizer=\"adam\",\n",
    "                loss=\"sparse_categorical_crossentropy\",\n",
    "                metrics=[\"accuracy\"])\n",
    "  return model "
   ]
  },
  {
   "cell_type": "code",
   "execution_count": 87,
   "metadata": {},
   "outputs": [],
   "source": [
    "# build a convolutional neural network model\n",
    "cnn_model = convolutional_neural_network(mobile_labels)"
   ]
  },
  {
   "cell_type": "code",
   "execution_count": null,
   "metadata": {},
   "outputs": [],
   "source": [
    "# train model\n",
    "model_history = cnn_model.fit(train)"
   ]
  },
  {
   "cell_type": "code",
   "execution_count": null,
   "metadata": {},
   "outputs": [],
   "source": []
  }
 ],
 "metadata": {
  "kernelspec": {
   "display_name": "venv",
   "language": "python",
   "name": "python3"
  },
  "language_info": {
   "codemirror_mode": {
    "name": "ipython",
    "version": 3
   },
   "file_extension": ".py",
   "mimetype": "text/x-python",
   "name": "python",
   "nbconvert_exporter": "python",
   "pygments_lexer": "ipython3",
   "version": "3.12.4"
  }
 },
 "nbformat": 4,
 "nbformat_minor": 2
}
