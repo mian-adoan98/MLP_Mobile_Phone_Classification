{
 "cells": [
  {
   "cell_type": "markdown",
   "metadata": {},
   "source": [
    "# Image Storage Processing "
   ]
  },
  {
   "cell_type": "code",
   "execution_count": 1,
   "metadata": {},
   "outputs": [],
   "source": [
    "# import libraries for data processing\n",
    "import numpy as np\n",
    "import pandas as pd"
   ]
  },
  {
   "cell_type": "code",
   "execution_count": 2,
   "metadata": {},
   "outputs": [],
   "source": [
    "import os\n",
    "import requests\n",
    "import shutil\n",
    "from urllib.parse import urlparse"
   ]
  },
  {
   "cell_type": "markdown",
   "metadata": {},
   "source": [
    "### ISP-Approach"
   ]
  },
  {
   "cell_type": "markdown",
   "metadata": {},
   "source": [
    "+ Loading Images\n",
    "+ Downloading images from URL\n",
    "+ Image Reorganisation based on labels"
   ]
  },
  {
   "cell_type": "markdown",
   "metadata": {},
   "source": [
    "## Loading Images "
   ]
  },
  {
   "cell_type": "code",
   "execution_count": 4,
   "metadata": {},
   "outputs": [
    {
     "data": {
      "text/html": [
       "<div>\n",
       "<style scoped>\n",
       "    .dataframe tbody tr th:only-of-type {\n",
       "        vertical-align: middle;\n",
       "    }\n",
       "\n",
       "    .dataframe tbody tr th {\n",
       "        vertical-align: top;\n",
       "    }\n",
       "\n",
       "    .dataframe thead th {\n",
       "        text-align: right;\n",
       "    }\n",
       "</style>\n",
       "<table border=\"1\" class=\"dataframe\">\n",
       "  <thead>\n",
       "    <tr style=\"text-align: right;\">\n",
       "      <th></th>\n",
       "      <th>Image_URL</th>\n",
       "      <th>ImageType</th>\n",
       "    </tr>\n",
       "  </thead>\n",
       "  <tbody>\n",
       "    <tr>\n",
       "      <th>0</th>\n",
       "      <td>https://www.orange.lu/media/catalog/product/i/...</td>\n",
       "      <td>Iphone</td>\n",
       "    </tr>\n",
       "    <tr>\n",
       "      <th>1</th>\n",
       "      <td>https://www.orange.lu/media/catalog/product/i/...</td>\n",
       "      <td>Iphone</td>\n",
       "    </tr>\n",
       "    <tr>\n",
       "      <th>2</th>\n",
       "      <td>https://www.orange.lu/media/catalog/product/i/...</td>\n",
       "      <td>Iphone</td>\n",
       "    </tr>\n",
       "    <tr>\n",
       "      <th>3</th>\n",
       "      <td>https://www.orange.lu/media/catalog/product/i/...</td>\n",
       "      <td>Iphone</td>\n",
       "    </tr>\n",
       "    <tr>\n",
       "      <th>4</th>\n",
       "      <td>https://www.orange.lu/media/catalog/product/s/...</td>\n",
       "      <td>Samsung</td>\n",
       "    </tr>\n",
       "  </tbody>\n",
       "</table>\n",
       "</div>"
      ],
      "text/plain": [
       "                                           Image_URL ImageType\n",
       "0  https://www.orange.lu/media/catalog/product/i/...    Iphone\n",
       "1  https://www.orange.lu/media/catalog/product/i/...    Iphone\n",
       "2  https://www.orange.lu/media/catalog/product/i/...    Iphone\n",
       "3  https://www.orange.lu/media/catalog/product/i/...    Iphone\n",
       "4  https://www.orange.lu/media/catalog/product/s/...   Samsung"
      ]
     },
     "execution_count": 4,
     "metadata": {},
     "output_type": "execute_result"
    }
   ],
   "source": [
    "# mobile_images = pd.read_csv(\"image_data_url.csv\", index_col=0) # dataset 1\n",
    "# mobile_images = # dataset 2\n",
    "# mobile_images.head()"
   ]
  },
  {
   "cell_type": "markdown",
   "metadata": {
    "vscode": {
     "languageId": "plaintext"
    }
   },
   "source": [
    "+ iterate the image url\n",
    "+ download the image format from image url\n",
    "+ store image into path\n",
    "\n",
    "**Note**: don't rerun the code with the dataset that is already used for downloading images from. Use new dataset with mobile images that have not already been downloaded from. "
   ]
  },
  {
   "cell_type": "markdown",
   "metadata": {},
   "source": [
    "## Downloading images from URL"
   ]
  },
  {
   "cell_type": "code",
   "execution_count": 5,
   "metadata": {},
   "outputs": [],
   "source": [
    "# Function to download and save image from URL\n",
    "def download_image(image_url, save_folder):\n",
    "    try:\n",
    "        # Send a GET request to the image URL\n",
    "        response = requests.get(image_url, stream=True)\n",
    "        response.raise_for_status()  # Check if the request was successful\n",
    "\n",
    "        # Extract the image name from the URL\n",
    "        parsed_url = urlparse(image_url)\n",
    "        image_name = os.path.basename(parsed_url.path)\n",
    "\n",
    "        # Define the full path where the image will be saved\n",
    "        save_path = os.path.join(save_folder, image_name)\n",
    "\n",
    "        # Write the image content to the file in binary mode\n",
    "        with open(save_path, 'wb') as image_file:\n",
    "            for chunk in response.iter_content(1024):\n",
    "                image_file.write(chunk)\n",
    "\n",
    "        print(f\"Image downloaded: {image_name}\")\n",
    "\n",
    "    except Exception as e:\n",
    "        print(f\"Failed to download {image_url}. Error: {e}\")"
   ]
  },
  {
   "cell_type": "code",
   "execution_count": 6,
   "metadata": {},
   "outputs": [],
   "source": [
    "# Function to download images from a list of URLs\n",
    "def download_images_from_urls(url_list, save_folder):\n",
    "    # Create the folder if it doesn't exist\n",
    "    if not os.path.exists(save_folder):\n",
    "        os.makedirs(save_folder)\n",
    "\n",
    "    # Download each image from the list\n",
    "    for url in url_list:\n",
    "        download_image(url, save_folder)"
   ]
  },
  {
   "cell_type": "code",
   "execution_count": 8,
   "metadata": {},
   "outputs": [
    {
     "name": "stderr",
     "output_type": "stream",
     "text": [
      "<>:5: SyntaxWarning: invalid escape sequence '\\M'\n",
      "<>:5: SyntaxWarning: invalid escape sequence '\\M'\n",
      "C:\\Users\\mian_\\AppData\\Local\\Temp\\ipykernel_22384\\3318035539.py:5: SyntaxWarning: invalid escape sequence '\\M'\n",
      "  save_directory = 'D:\\Machine_Learning\\Portfolio_Project_Machine_Learning\\Mobile_Image_Classification\\mobile_phone_images\\mobile_images'\n"
     ]
    },
    {
     "name": "stdout",
     "output_type": "stream",
     "text": [
      "Image downloaded: iphone_16_pro_black_titanium_back.png\n",
      "Image downloaded: iphone_16_pro_max_black_titanium_back.png\n",
      "Image downloaded: iphone_16_black.png\n",
      "Image downloaded: iphone_16_plus_black.png\n",
      "Image downloaded: samsung_galaxy_z_fold6_silver_openfront_en.png\n",
      "Image downloaded: samsung_galaxy_z_flip6_silver_tabletopen_en_1.png\n",
      "Image downloaded: iphone_15_pro_black_front_1000x2000_1.png\n",
      "Image downloaded: iphone_15_pro_black_front_1000x2000.png\n",
      "Image downloaded: iphone_15_black_front_1000x2000__6.jpg\n",
      "Image downloaded: iphone_15_black_front_1000x2000_.png\n",
      "Image downloaded: samsung-galaxy-s24_-ia-onyx-black_1.png\n",
      "Image downloaded: samsung-galaxy-s24_-ia-onyx-black_2.png\n",
      "Image downloaded: samsung-galaxy-s24-ultra-ia-onyx-black_1_3.png\n",
      "Image downloaded: pixel_8_black_face_1000x2000_1.png\n",
      "Image downloaded: pixel_8_pro_black_face_1000x2000.png\n",
      "Image downloaded: iphone13_re_1000x200_1.png\n",
      "Image downloaded: iphone_12_noir_re_en_1.png\n",
      "Image downloaded: apple_iphone_11_back_face_refurbished_en.png\n",
      "Image downloaded: samsung_galaxy_a35_navy_front_1.png\n",
      "Image downloaded: samsung_galaxy_a55_navy_front_1.png\n",
      "Image downloaded: galaxy_a15_blue_front_1.png\n",
      "Image downloaded: samsung_galaxy_xcover_7_ee_face.png\n",
      "Image downloaded: samsung-galaxy-z-fold5-ia-graphite_1.png\n",
      "Image downloaded: apple_iphone_14_bleu_face.png\n",
      "Image downloaded: samsung-galaxy-s23-ia-phantomblack.png\n",
      "Image downloaded: samsung-galaxy-s23_-ia-phantomblack_1.png\n",
      "Image downloaded: fairphone_5_transparent_front_1.png\n",
      "Image downloaded: iphone_se_noir_re_en_1.png\n",
      "Image downloaded: sm-a546_galaxy_a54_5g_awesome_graphite_front2.png\n",
      "Image downloaded: apple_iphone_13_rose_face.jpg\n",
      "Image downloaded: apple-iphone-se-5g-noir-face_4_1.png\n",
      "Image downloaded: xiaomi_12_gris_face_1.png\n",
      "Image downloaded: xiaomi_redmi_note_12_plus_black_front_1000x2000.png\n",
      "Image downloaded: samsung_galaxy_s22_noir_face.png\n"
     ]
    }
   ],
   "source": [
    "# List of image URLs (replace with your dataset's URLs)\n",
    "image_urls = mobile_images[\"Image_URL\"].values\n",
    "\n",
    "# Folder where images will be saved\n",
    "save_directory = 'D:\\Machine_Learning\\Portfolio_Project_Machine_Learning\\Mobile_Image_Classification\\mobile_phone_images\\mobile_images'\n",
    "\n",
    "# Call the function to download images\n",
    "download_images_from_urls(image_urls, save_directory)\n"
   ]
  },
  {
   "cell_type": "markdown",
   "metadata": {},
   "source": [
    "## Reorganising images based on its label"
   ]
  },
  {
   "cell_type": "markdown",
   "metadata": {},
   "source": [
    "**importing new class labels for classifying mobile images**"
   ]
  },
  {
   "cell_type": "code",
   "execution_count": 31,
   "metadata": {},
   "outputs": [],
   "source": [
    "new_class_label = input(\"import new class labels: \")"
   ]
  },
  {
   "cell_type": "code",
   "execution_count": 32,
   "metadata": {},
   "outputs": [],
   "source": [
    "# define path where images are originally stored in\n",
    "# create class labels (used to create folder where images will be saved)\n",
    "images_dir = 'D:/Machine_Learning/Portfolio_Project_Machine_Learning/Mobile_Image_Classification/mobile_phone_images/mobile_images'\n",
    "source_dir = 'D:/Machine_Learning/Portfolio_Project_Machine_Learning/Mobile_Image_Classification/mobile_phone_images'\n",
    "class_labels = [\"iphone\", \"oneplus\", \"pixel_8\", \"samsung\", \"xiaomi\"]\n",
    "class_labels.append(new_class_label)"
   ]
  },
  {
   "cell_type": "code",
   "execution_count": 33,
   "metadata": {},
   "outputs": [
    {
     "data": {
      "text/plain": [
       "['iphone', 'oneplus', 'pixel_8', 'samsung', 'xiaomi', 'fairphone']"
      ]
     },
     "execution_count": 33,
     "metadata": {},
     "output_type": "execute_result"
    }
   ],
   "source": [
    "class_labels"
   ]
  },
  {
   "cell_type": "markdown",
   "metadata": {},
   "source": [
    "**Creating new class folders to store mobile images**"
   ]
  },
  {
   "cell_type": "code",
   "execution_count": 34,
   "metadata": {},
   "outputs": [],
   "source": [
    "# create class folders if they don't exist\n",
    "for label in class_labels:\n",
    "  class_folder = os.path.join(source_dir)\n",
    "  if not os.path.exists(class_folder):\n",
    "    os.makedirs(class_folder)"
   ]
  },
  {
   "cell_type": "code",
   "execution_count": 36,
   "metadata": {},
   "outputs": [
    {
     "name": "stdout",
     "output_type": "stream",
     "text": [
      "Moved apple-iphone-se-5g-noir-face_4_1.png to iphone folder.\n",
      "Moved apple_iphone_11_back_face_refurbished_en.png to iphone folder.\n",
      "Moved apple_iphone_13_rose_face.jpg to iphone folder.\n",
      "Moved apple_iphone_14_bleu_face.png to iphone folder.\n",
      "Moved fairphone_5_transparent_front_1.png to fairphone folder.\n",
      "Moved iphone13_re_1000x200_1.png to iphone folder.\n",
      "Moved iphone_12_noir_re_en_1.png to iphone folder.\n",
      "Moved iphone_15_black_front_1000x2000_.png to iphone folder.\n",
      "Moved iphone_15_black_front_1000x2000__6.jpg to iphone folder.\n",
      "Moved iphone_15_pro_black_front_1000x2000.png to iphone folder.\n",
      "Moved iphone_15_pro_black_front_1000x2000_1.png to iphone folder.\n",
      "Moved iphone_16_black.png to iphone folder.\n",
      "Moved iphone_16_plus_black.png to iphone folder.\n",
      "Moved iphone_16_pro_black_titanium_back.png to iphone folder.\n",
      "Moved iphone_16_pro_max_black_titanium_back.png to iphone folder.\n",
      "Moved iphone_se_noir_re_en_1.png to iphone folder.\n",
      "Moved pixel_8_black_face_1000x2000_1.png to pixel_8 folder.\n",
      "Moved pixel_8_pro_black_face_1000x2000.png to pixel_8 folder.\n",
      "Moved samsung-galaxy-s23-ia-phantomblack.png to samsung folder.\n",
      "Moved samsung-galaxy-s23_-ia-phantomblack_1.png to samsung folder.\n",
      "Moved samsung-galaxy-s24-ultra-ia-onyx-black_1_3.png to samsung folder.\n",
      "Moved samsung-galaxy-s24_-ia-onyx-black_1.png to samsung folder.\n",
      "Moved samsung-galaxy-s24_-ia-onyx-black_2.png to samsung folder.\n",
      "Moved samsung-galaxy-z-fold5-ia-graphite_1.png to samsung folder.\n",
      "Moved samsung_galaxy_a35_navy_front_1.png to samsung folder.\n",
      "Moved samsung_galaxy_a55_navy_front_1.png to samsung folder.\n",
      "Moved samsung_galaxy_s22_noir_face.png to samsung folder.\n",
      "Moved samsung_galaxy_xcover_7_ee_face.png to samsung folder.\n",
      "Moved samsung_galaxy_z_flip6_silver_tabletopen_en_1.png to samsung folder.\n",
      "Moved samsung_galaxy_z_fold6_silver_openfront_en.png to samsung folder.\n",
      "Moved xiaomi_12_gris_face_1.png to xiaomi folder.\n",
      "Moved xiaomi_redmi_note_12_plus_black_front_1000x2000.png to xiaomi folder.\n"
     ]
    }
   ],
   "source": [
    "# move images into respective class folders\n",
    "for filename in os.listdir(images_dir):\n",
    "  if filename.endswith((\"png\",\"jpg\",\"jpeg\")):\n",
    "    # check filename contains class label\n",
    "    for label in class_labels:\n",
    "      if label in filename.lower():\n",
    "        source_path = os.path.join(images_dir, filename)\n",
    "        dest_path = os.path.join(source_dir, label, filename)\n",
    "\n",
    "        # move file to the correct directory\n",
    "        shutil.move(source_path, dest_path)\n",
    "        print(f\"Moved {filename} to {label} folder.\")"
   ]
  },
  {
   "cell_type": "code",
   "execution_count": 55,
   "metadata": {},
   "outputs": [
    {
     "name": "stdout",
     "output_type": "stream",
     "text": [
      "Class 'fairphone' contains 1 images.\n",
      "Class 'iphone' contains 15 images.\n",
      "Class 'mobile_images' contains 2 images.\n",
      "Class 'oneplus' contains 0 images.\n",
      "Class 'pixel_8' contains 2 images.\n",
      "Class 'samsung' contains 12 images.\n",
      "Class 'xiaomi' contains 2 images.\n"
     ]
    }
   ],
   "source": [
    "# Define the image extensions you want to count (e.g., jpg, png)\n",
    "image_extensions = ('.jpg', '.jpeg', '.png')\n",
    "\n",
    "# Dictionary to store the number of images per class folder\n",
    "image_count_per_class = {}\n",
    "\n",
    "# Loop through each class folder in the main directory\n",
    "for class_folder in os.listdir(source_dir):\n",
    "    class_folder_path = os.path.join(source_dir, class_folder)\n",
    "    \n",
    "    # Check if it's actually a directory (a class folder)\n",
    "    if os.path.isdir(class_folder_path):\n",
    "        # Count the number of image files in the class folder\n",
    "        num_images = len([f for f in os.listdir(class_folder_path) if f.lower().endswith(image_extensions)])\n",
    "        \n",
    "        # Store the count in the dictionary\n",
    "        image_count_per_class[class_folder] = num_images\n",
    "\n",
    "# Print the number of images in each class folder\n",
    "for class_name, count in image_count_per_class.items():\n",
    "    print(f\"Class '{class_name}' contains {count} images.\")"
   ]
  }
 ],
 "metadata": {
  "kernelspec": {
   "display_name": "venv",
   "language": "python",
   "name": "python3"
  },
  "language_info": {
   "codemirror_mode": {
    "name": "ipython",
    "version": 3
   },
   "file_extension": ".py",
   "mimetype": "text/x-python",
   "name": "python",
   "nbconvert_exporter": "python",
   "pygments_lexer": "ipython3",
   "version": "3.12.4"
  }
 },
 "nbformat": 4,
 "nbformat_minor": 2
}
